{
 "cells": [
  {
   "cell_type": "code",
   "execution_count": 1,
   "metadata": {},
   "outputs": [],
   "source": [
    "import jax.numpy as jnp\n",
    "import numpy as np\n",
    "from jax.tree_util import tree_flatten, tree_unflatten\n",
    "\n",
    "np.random.seed(42)\n",
    "\n",
    "V = 10.0\n",
    "R1 = 4.0\n",
    "C1 = 0.5\n",
    "\n",
    "t_start = 0.0\n",
    "t_end = 10.0\n",
    "n_samples = 50\n",
    "\n",
    "Ts = jnp.linspace(0, 8, 10)\n",
    "\n",
    "\n",
    "def activation_R0(T):\n",
    "    return 10*jnp.exp(-0.2*T)\n",
    "\n",
    "def solution(t, T):\n",
    "    return V/activation_R0(T) + (V/R1) * jnp.exp(-t/(R1*C1))\n",
    "\n",
    "def get_domain():\n",
    "    return jnp.array([[t_start, t_end], [min(Ts), max(Ts)]])\n",
    "\n",
    "def get_initial_values():\n",
    "    t0 = jnp.full(len(Ts), t_start)\n",
    "    T0 = jnp.array(Ts)\n",
    "    return t0, T0\n",
    "\n",
    "def get_dataset():\n",
    "    t = jnp.tile(jnp.linspace(t_start, t_end, n_samples), len(Ts))\n",
    "    T = jnp.repeat(jnp.array(Ts), n_samples)\n",
    "    #u1 = solution(t, T)\n",
    "    u1 = solution(t, T) + np.random.normal(loc=0.0, scale=2, size=u1.shape)\n",
    "    u2 = activation_R0(T)\n",
    "    return t, T, u1, u2\n",
    "\n",
    "def get_ic():\n",
    "    t0s = jnp.zeros(len(Ts))\n",
    "    return solution(t0s, Ts)\n"
   ]
  },
  {
   "cell_type": "code",
   "execution_count": 12,
   "metadata": {},
   "outputs": [
    {
     "data": {
      "text/plain": [
       "<matplotlib.collections.PathCollection at 0x12a566780>"
      ]
     },
     "execution_count": 12,
     "metadata": {},
     "output_type": "execute_result"
    },
    {
     "data": {
      "image/png": "[encoded data removed]",
      "text/plain": [
       "<Figure size 640x480 with 1 Axes>"
      ]
     },
     "metadata": {},
     "output_type": "display_data"
    }
   ],
   "source": [
    "import matplotlib.pyplot as plt\n",
    "\n",
    "t = jnp.linspace(t_start, t_end, n_samples)\n",
    "T = jnp.repeat(Ts[0], n_samples)\n",
    "u = solution(t,T) \n",
    "noise = np.random.normal(loc=jnp.mean(u), scale=0.2*jnp.abs(u), size=u.shape)\n",
    "\n",
    "plt.scatter(t,u+noise)"
   ]
  },
  {
   "cell_type": "code",
   "execution_count": null,
   "metadata": {},
   "outputs": [],
   "source": [
    "print(u + np.random.normal(loc=0.0, scale=10 * jnp.abs(u), size=u.shape))"
   ]
  },
  {
   "cell_type": "code",
   "execution_count": null,
   "metadata": {},
   "outputs": [],
   "source": [
    "print(u)"
   ]
  },
  {
   "cell_type": "code",
   "execution_count": null,
   "metadata": {},
   "outputs": [],
   "source": []
  }
 ],
 "metadata": {
  "kernelspec": {
   "display_name": "base",
   "language": "python",
   "name": "python3"
  },
  "language_info": {
   "codemirror_mode": {
    "name": "ipython",
    "version": 3
   },
   "file_extension": ".py",
   "mimetype": "text/x-python",
   "name": "python",
   "nbconvert_exporter": "python",
   "pygments_lexer": "ipython3",
   "version": "3.12.7"
  }
 },
 "nbformat": 4,
 "nbformat_minor": 2
}
