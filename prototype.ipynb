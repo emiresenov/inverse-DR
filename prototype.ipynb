{
 "cells": [
  {
   "cell_type": "code",
   "execution_count": 1,
   "metadata": {},
   "outputs": [],
   "source": [
    "import jax.numpy as jnp\n",
    "import numpy as np\n",
    "from jax.tree_util import tree_flatten, tree_unflatten\n",
    "\n",
    "np.random.seed(42)\n",
    "\n",
    "V = 10.0\n",
    "R1 = 4.0\n",
    "C1 = 0.5\n",
    "\n",
    "t_start = 0.0\n",
    "t_end = 10.0\n",
    "n_samples = 50\n",
    "\n",
    "Ts = jnp.linspace(0, 8, 10)\n",
    "\n",
    "\n",
    "def activation_R0(T):\n",
    "    return 10*jnp.exp(-0.2*T)\n",
    "\n",
    "def solution(t, T):\n",
    "    return V/activation_R0(T) + (V/R1) * jnp.exp(-t/(R1*C1))\n",
    "\n",
    "def get_domain():\n",
    "    return jnp.array([[t_start, t_end], [min(Ts), max(Ts)]])\n",
    "\n",
    "def get_initial_values():\n",
    "    t0 = jnp.full(len(Ts), t_start)\n",
    "    T0 = jnp.array(Ts)\n",
    "    return t0, T0\n",
    "\n",
    "def get_dataset():\n",
    "    t = jnp.tile(jnp.linspace(t_start, t_end, n_samples), len(Ts))\n",
    "    T = jnp.repeat(jnp.array(Ts), n_samples)\n",
    "    #u1 = solution(t, T)\n",
    "    u1 = solution(t, T) + np.random.normal(loc=0.0, scale=2, size=u1.shape)\n",
    "    u2 = activation_R0(T)\n",
    "    return t, T, u1, u2\n",
    "\n",
    "def get_ic():\n",
    "    t0s = jnp.zeros(len(Ts))\n",
    "    return solution(t0s, Ts)\n"
   ]
  },
  {
   "cell_type": "code",
   "execution_count": null,
   "metadata": {},
   "outputs": [
    {
     "ename": "NameError",
     "evalue": "name 'u' is not defined",
     "output_type": "error",
     "traceback": [
      "\u001b[0;31m---------------------------------------------------------------------------\u001b[0m",
      "\u001b[0;31mNameError\u001b[0m                                 Traceback (most recent call last)",
      "Cell \u001b[0;32mIn[2], line 5\u001b[0m\n\u001b[1;32m      3\u001b[0m t \u001b[38;5;241m=\u001b[39m jnp\u001b[38;5;241m.\u001b[39mlinspace(t_start, t_end, n_samples)\n\u001b[1;32m      4\u001b[0m T \u001b[38;5;241m=\u001b[39m jnp\u001b[38;5;241m.\u001b[39mrepeat(Ts[\u001b[38;5;241m0\u001b[39m], n_samples)\n\u001b[0;32m----> 5\u001b[0m u \u001b[38;5;241m=\u001b[39m solution(t,T) \u001b[38;5;241m+\u001b[39m np\u001b[38;5;241m.\u001b[39mrandom\u001b[38;5;241m.\u001b[39mnormal(loc\u001b[38;5;241m=\u001b[39m\u001b[38;5;241m0.0\u001b[39m, scale\u001b[38;5;241m=\u001b[39m\u001b[38;5;241m0.05\u001b[39m, size\u001b[38;5;241m=\u001b[39mu\u001b[38;5;241m.\u001b[39mshape)\n\u001b[1;32m      7\u001b[0m plt\u001b[38;5;241m.\u001b[39mscatter(t,u)\n",
      "\u001b[0;31mNameError\u001b[0m: name 'u' is not defined"
     ]
    }
   ],
   "source": [
    "import matplotlib.pyplot as plt\n",
    "\n",
    "t = jnp.linspace(t_start, t_end, n_samples)\n",
    "T = jnp.repeat(Ts[0], n_samples)\n",
    "u = solution(t,T) \n",
    "noise = np.random.normal(loc=0.0, scale=0.05, size=u.shape)\n",
    "\n",
    "plt.scatter(t,u)"
   ]
  },
  {
   "cell_type": "code",
   "execution_count": null,
   "metadata": {},
   "outputs": [],
   "source": [
    "print(u + np.random.normal(loc=0.0, scale=10 * jnp.abs(u), size=u.shape))"
   ]
  },
  {
   "cell_type": "code",
   "execution_count": null,
   "metadata": {},
   "outputs": [],
   "source": [
    "print(u)"
   ]
  },
  {
   "cell_type": "code",
   "execution_count": null,
   "metadata": {},
   "outputs": [],
   "source": []
  }
 ],
 "metadata": {
  "kernelspec": {
   "display_name": "base",
   "language": "python",
   "name": "python3"
  },
  "language_info": {
   "codemirror_mode": {
    "name": "ipython",
    "version": 3
   },
   "file_extension": ".py",
   "mimetype": "text/x-python",
   "name": "python",
   "nbconvert_exporter": "python",
   "pygments_lexer": "ipython3",
   "version": "3.12.7"
  }
 },
 "nbformat": 4,
 "nbformat_minor": 2
}
